{
  "nbformat": 4,
  "nbformat_minor": 0,
  "metadata": {
    "colab": {
      "name": "program_v1.ipynb",
      "provenance": [],
      "authorship_tag": "ABX9TyMyDs0bG2g1UGWBL2q1mUQ+"
    },
    "kernelspec": {
      "name": "python3",
      "display_name": "Python 3"
    },
    "language_info": {
      "name": "python"
    }
  },
  "cells": [
    {
      "cell_type": "markdown",
      "metadata": {
        "id": "xmxTRqjIWDyt"
      },
      "source": [
        "##Program Searching Elemen Unit in Zn"
      ]
    },
    {
      "cell_type": "code",
      "metadata": {
        "id": "Eb12F_tSLzd9"
      },
      "source": [
        "UNIT =[]\n",
        "n = int(input('Masukkan n pada Zn:'))\n",
        "for i in range (0,n):\n",
        "  for j in range (0,n):\n",
        "    a = i*j\n",
        "    if a%n==1:\n",
        "        UNIT.append(i)\n",
        "unit=set(UNIT)\n",
        "print('Elemen unit dari Z{0}:'.format(n))\n",
        "print(unit)"
      ],
      "execution_count": null,
      "outputs": []
    },
    {
      "cell_type": "markdown",
      "metadata": {
        "id": "yeYi3BqNWRHz"
      },
      "source": [
        "##Program Searching Elemen Pembagi Nol in Zn"
      ]
    },
    {
      "cell_type": "code",
      "metadata": {
        "id": "2NQkh7ZJMzCd"
      },
      "source": [
        "NOL=[]\n",
        "n = int(input('Masukkan n pada Zn:'))\n",
        "for i in range (0,n):\n",
        "  for j in range (0,n):\n",
        "    a = i*j\n",
        "    if a%n==0 and i!=0 and j!=0: \n",
        "         NOL.append(i)\n",
        "nol=set(NOL)\n",
        "print('Elemen pembagi nol dari Z{0}:'.format(n))\n",
        "print(nol)"
      ],
      "execution_count": null,
      "outputs": []
    }
  ]
}